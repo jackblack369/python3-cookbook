{
  "cells": [
    {
      "cell_type": "markdown",
      "metadata": {},
      "source": [
        "## 7.2 只接受关键字参数的函数\n"
      ]
    },
    {
      "cell_type": "markdown",
      "metadata": {},
      "source": [
        "### 问题\n"
      ]
    },
    {
      "cell_type": "markdown",
      "metadata": {},
      "source": [
        "你希望函数的某些参数强制使用关键字参数传递"
      ]
    },
    {
      "cell_type": "markdown",
      "metadata": {},
      "source": [
        "### 解决方案\n"
      ]
    },
    {
      "cell_type": "markdown",
      "metadata": {},
      "source": [
        "将强制关键字参数放到某个*参数或者单个*后面就能达到这种效果。比如："
      ]
    },
    {
      "cell_type": "code",
      "execution_count": null,
      "metadata": {},
      "outputs": [],
      "source": [
        "def recv(maxsize, *, block):\n",
        "    'Receives a message'\n",
        "    pass\n",
        "\n",
        "recv(1024, True) # TypeError\n",
        "recv(1024, block=True) # Ok"
      ]
    },
    {
      "cell_type": "markdown",
      "metadata": {},
      "source": [
        "利用这种技术，我们还能在接受任意多个位置参数的函数中指定关键字参数。比如："
      ]
    },
    {
      "cell_type": "code",
      "execution_count": null,
      "metadata": {},
      "outputs": [],
      "source": [
        "def minimum(*values, clip=None):\n",
        "    m = min(values)\n",
        "    if clip is not None:\n",
        "        m = clip if clip > m else m\n",
        "    return m\n",
        "\n",
        "minimum(1, 5, 2, -5, 10) # Returns -5\n",
        "minimum(1, 5, 2, -5, 10, clip=0) # Returns 0"
      ]
    },
    {
      "cell_type": "markdown",
      "metadata": {},
      "source": [
        "### 讨论\n"
      ]
    },
    {
      "cell_type": "markdown",
      "metadata": {},
      "source": [
        "很多情况下，使用强制关键字参数会比使用位置参数表意更加清晰，程序也更加具有可读性。\n",
        "例如，考虑下如下一个函数调用："
      ]
    },
    {
      "cell_type": "code",
      "execution_count": null,
      "metadata": {},
      "outputs": [],
      "source": [
        "msg = recv(1024, False)"
      ]
    },
    {
      "cell_type": "markdown",
      "metadata": {},
      "source": [
        "如果调用者对recv函数并不是很熟悉，那他肯定不明白那个False参数到底来干嘛用的。\n",
        "但是，如果代码变成下面这样子的话就清楚多了："
      ]
    },
    {
      "cell_type": "code",
      "execution_count": null,
      "metadata": {},
      "outputs": [],
      "source": [
        "msg = recv(1024, block=False)"
      ]
    },
    {
      "cell_type": "markdown",
      "metadata": {},
      "source": [
        "另外，使用强制关键字参数也会比使用**kwargs参数更好，因为在使用函数help的时候输出也会更容易理解："
      ]
    },
    {
      "cell_type": "code",
      "execution_count": null,
      "metadata": {},
      "outputs": [],
      "source": [
        "help(recv)"
      ]
    },
    {
      "cell_type": "markdown",
      "metadata": {},
      "source": [
        "强制关键字参数在一些更高级场合同样也很有用。\n",
        "例如，它们可以被用来在使用*args和**kwargs参数作为输入的函数中插入参数，9.11小节有一个这样的例子。"
      ]
    }
  ],
  "metadata": {
    "kernelspec": {
      "display_name": "Python 3",
      "language": "python",
      "name": "python3"
    },
    "language_info": {
      "codemirror_mode": {
        "name": "ipython",
        "version": 3
      },
      "file_extension": ".py",
      "mimetype": "text/x-python",
      "name": "python",
      "nbconvert_exporter": "python",
      "pygments_lexer": "ipython3",
      "version": "3.10.13"
    },
    "toc": {
      "base_numbering": 1,
      "nav_menu": {},
      "number_sections": true,
      "sideBar": true,
      "skip_h1_title": true,
      "title_cell": "Table of Contents",
      "title_sidebar": "Contents",
      "toc_cell": false,
      "toc_position": {},
      "toc_section_display": true,
      "toc_window_display": true
    }
  },
  "nbformat": 4,
  "nbformat_minor": 2
}
