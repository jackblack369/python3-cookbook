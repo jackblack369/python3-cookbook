{
  "cells": [
    {
      "cell_type": "markdown",
      "metadata": {},
      "source": [
        "## 8.11 简化数据结构的初始化\n"
      ]
    },
    {
      "cell_type": "markdown",
      "metadata": {},
      "source": [
        "### 问题\n"
      ]
    },
    {
      "cell_type": "markdown",
      "metadata": {},
      "source": [
        "你写了很多仅仅用作数据结构的类，不想写太多烦人的 __init__() 函数"
      ]
    },
    {
      "cell_type": "markdown",
      "metadata": {},
      "source": [
        "### 解决方案\n"
      ]
    },
    {
      "cell_type": "markdown",
      "metadata": {},
      "source": [
        "可以在一个基类中写一个公用的 __init__() 函数："
      ]
    },
    {
      "cell_type": "code",
      "execution_count": 3,
      "metadata": {},
      "outputs": [],
      "source": [
        "import math\n",
        "\n",
        "class Structure1:\n",
        "    # Class variable that specifies expected fields\n",
        "    _fields = []\n",
        "\n",
        "    def __init__(self, *args):\n",
        "        if len(args) != len(self._fields):\n",
        "            raise TypeError('Expected {} arguments'.format(len(self._fields)))\n",
        "        # Set the arguments\n",
        "        for name, value in zip(self._fields, args):\n",
        "            setattr(self, name, value)"
      ]
    },
    {
      "cell_type": "markdown",
      "metadata": {},
      "source": [
        "然后使你的类继承自这个基类:"
      ]
    },
    {
      "cell_type": "code",
      "execution_count": 7,
      "metadata": {},
      "outputs": [],
      "source": [
        "# Example class definitions\n",
        "class Stock(Structure1):\n",
        "    _fields = ['name', 'shares', 'price']\n",
        "\n",
        "class Point(Structure1):\n",
        "    _fields = ['x', 'y']\n",
        "\n",
        "class Circle(Structure1):\n",
        "    _fields = ['radius']\n",
        "\n",
        "    def area(self):\n",
        "        return math.pi * self.radius ** 2"
      ]
    },
    {
      "cell_type": "markdown",
      "metadata": {},
      "source": [
        "使用这些类的示例："
      ]
    },
    {
      "cell_type": "code",
      "execution_count": 8,
      "metadata": {},
      "outputs": [],
      "source": [
        "s = Stock('ACME', 50, 91.1)\n",
        "p = Point(2, 3)\n",
        "c = Circle(4.5)\n",
        "# s2 = Stock('ACME', 50)"
      ]
    },
    {
      "cell_type": "code",
      "execution_count": 9,
      "metadata": {},
      "outputs": [
        {
          "ename": "TypeError",
          "evalue": "Expected 3 arguments",
          "output_type": "error",
          "traceback": [
            "\u001b[0;31m---------------------------------------------------------------------------\u001b[0m",
            "\u001b[0;31mTypeError\u001b[0m                                 Traceback (most recent call last)",
            "Cell \u001b[0;32mIn[9], line 1\u001b[0m\n\u001b[0;32m----> 1\u001b[0m s2 \u001b[38;5;241m=\u001b[39m \u001b[43mStock\u001b[49m\u001b[43m(\u001b[49m\u001b[38;5;124;43m'\u001b[39;49m\u001b[38;5;124;43mACME\u001b[39;49m\u001b[38;5;124;43m'\u001b[39;49m\u001b[43m,\u001b[49m\u001b[43m \u001b[49m\u001b[38;5;241;43m50\u001b[39;49m\u001b[43m)\u001b[49m\n",
            "Cell \u001b[0;32mIn[3], line 9\u001b[0m, in \u001b[0;36mStructure1.__init__\u001b[0;34m(self, *args)\u001b[0m\n\u001b[1;32m      7\u001b[0m \u001b[38;5;28;01mdef\u001b[39;00m \u001b[38;5;21m__init__\u001b[39m(\u001b[38;5;28mself\u001b[39m, \u001b[38;5;241m*\u001b[39margs):\n\u001b[1;32m      8\u001b[0m     \u001b[38;5;28;01mif\u001b[39;00m \u001b[38;5;28mlen\u001b[39m(args) \u001b[38;5;241m!=\u001b[39m \u001b[38;5;28mlen\u001b[39m(\u001b[38;5;28mself\u001b[39m\u001b[38;5;241m.\u001b[39m_fields):\n\u001b[0;32m----> 9\u001b[0m         \u001b[38;5;28;01mraise\u001b[39;00m \u001b[38;5;167;01mTypeError\u001b[39;00m(\u001b[38;5;124m'\u001b[39m\u001b[38;5;124mExpected \u001b[39m\u001b[38;5;132;01m{}\u001b[39;00m\u001b[38;5;124m arguments\u001b[39m\u001b[38;5;124m'\u001b[39m\u001b[38;5;241m.\u001b[39mformat(\u001b[38;5;28mlen\u001b[39m(\u001b[38;5;28mself\u001b[39m\u001b[38;5;241m.\u001b[39m_fields)))\n\u001b[1;32m     10\u001b[0m     \u001b[38;5;66;03m# Set the arguments\u001b[39;00m\n\u001b[1;32m     11\u001b[0m     \u001b[38;5;28;01mfor\u001b[39;00m name, value \u001b[38;5;129;01min\u001b[39;00m \u001b[38;5;28mzip\u001b[39m(\u001b[38;5;28mself\u001b[39m\u001b[38;5;241m.\u001b[39m_fields, args):\n",
            "\u001b[0;31mTypeError\u001b[0m: Expected 3 arguments"
          ]
        }
      ],
      "source": [
        "s2 = Stock('ACME', 50)"
      ]
    },
    {
      "cell_type": "markdown",
      "metadata": {},
      "source": [
        "如果还想支持关键字参数，可以将关键字参数设置为实例属性："
      ]
    },
    {
      "cell_type": "code",
      "execution_count": 10,
      "metadata": {},
      "outputs": [],
      "source": [
        "class Structure2:\n",
        "    _fields = []\n",
        "\n",
        "    def __init__(self, *args, **kwargs):\n",
        "        if len(args) > len(self._fields):\n",
        "            raise TypeError('Expected {} arguments'.format(len(self._fields)))\n",
        "\n",
        "        # Set all of the positional arguments\n",
        "        for name, value in zip(self._fields, args):\n",
        "            setattr(self, name, value)\n",
        "\n",
        "        # Set the remaining keyword arguments\n",
        "        for name in self._fields[len(args):]:\n",
        "            setattr(self, name, kwargs.pop(name))\n",
        "\n",
        "        # Check for any remaining unknown arguments\n",
        "        if kwargs:\n",
        "            raise TypeError('Invalid argument(s): {}'.format(','.join(kwargs)))\n",
        "# Example use\n",
        "if __name__ == '__main__':\n",
        "    class Stock(Structure2):\n",
        "        _fields = ['name', 'shares', 'price']\n",
        "\n",
        "    s1 = Stock('ACME', 50, 91.1)\n",
        "    s2 = Stock('ACME', 50, price=91.1)\n",
        "    s3 = Stock('ACME', shares=50, price=91.1)\n",
        "    # s3 = Stock('ACME', shares=50, price=91.1, aa=1)"
      ]
    },
    {
      "cell_type": "code",
      "execution_count": 11,
      "metadata": {},
      "outputs": [
        {
          "ename": "TypeError",
          "evalue": "Invalid argument(s): aa",
          "output_type": "error",
          "traceback": [
            "\u001b[0;31m---------------------------------------------------------------------------\u001b[0m",
            "\u001b[0;31mTypeError\u001b[0m                                 Traceback (most recent call last)",
            "Cell \u001b[0;32mIn[11], line 1\u001b[0m\n\u001b[0;32m----> 1\u001b[0m s3 \u001b[38;5;241m=\u001b[39m \u001b[43mStock\u001b[49m\u001b[43m(\u001b[49m\u001b[38;5;124;43m'\u001b[39;49m\u001b[38;5;124;43mACME\u001b[39;49m\u001b[38;5;124;43m'\u001b[39;49m\u001b[43m,\u001b[49m\u001b[43m \u001b[49m\u001b[43mshares\u001b[49m\u001b[38;5;241;43m=\u001b[39;49m\u001b[38;5;241;43m50\u001b[39;49m\u001b[43m,\u001b[49m\u001b[43m \u001b[49m\u001b[43mprice\u001b[49m\u001b[38;5;241;43m=\u001b[39;49m\u001b[38;5;241;43m91.1\u001b[39;49m\u001b[43m,\u001b[49m\u001b[43m \u001b[49m\u001b[43maa\u001b[49m\u001b[38;5;241;43m=\u001b[39;49m\u001b[38;5;241;43m1\u001b[39;49m\u001b[43m)\u001b[49m\n",
            "Cell \u001b[0;32mIn[10], line 18\u001b[0m, in \u001b[0;36mStructure2.__init__\u001b[0;34m(self, *args, **kwargs)\u001b[0m\n\u001b[1;32m     16\u001b[0m \u001b[38;5;66;03m# Check for any remaining unknown arguments\u001b[39;00m\n\u001b[1;32m     17\u001b[0m \u001b[38;5;28;01mif\u001b[39;00m kwargs:\n\u001b[0;32m---> 18\u001b[0m     \u001b[38;5;28;01mraise\u001b[39;00m \u001b[38;5;167;01mTypeError\u001b[39;00m(\u001b[38;5;124m'\u001b[39m\u001b[38;5;124mInvalid argument(s): \u001b[39m\u001b[38;5;132;01m{}\u001b[39;00m\u001b[38;5;124m'\u001b[39m\u001b[38;5;241m.\u001b[39mformat(\u001b[38;5;124m'\u001b[39m\u001b[38;5;124m,\u001b[39m\u001b[38;5;124m'\u001b[39m\u001b[38;5;241m.\u001b[39mjoin(kwargs)))\n",
            "\u001b[0;31mTypeError\u001b[0m: Invalid argument(s): aa"
          ]
        }
      ],
      "source": [
        "s3 = Stock('ACME', shares=50, price=91.1, aa=1)"
      ]
    },
    {
      "cell_type": "markdown",
      "metadata": {},
      "source": [
        "你还能将不在 _fields 中的名称加入到属性中去："
      ]
    },
    {
      "cell_type": "code",
      "execution_count": null,
      "metadata": {},
      "outputs": [],
      "source": [
        "class Structure3:\n",
        "    # Class variable that specifies expected fields\n",
        "    _fields = []\n",
        "\n",
        "    def __init__(self, *args, **kwargs):\n",
        "        if len(args) != len(self._fields):\n",
        "            raise TypeError('Expected {} arguments'.format(len(self._fields)))\n",
        "\n",
        "        # Set the arguments\n",
        "        for name, value in zip(self._fields, args):\n",
        "            setattr(self, name, value)\n",
        "\n",
        "        # Set the additional arguments (if any)\n",
        "        extra_args = kwargs.keys() - self._fields\n",
        "        for name in extra_args:\n",
        "            setattr(self, name, kwargs.pop(name))\n",
        "\n",
        "        if kwargs:\n",
        "            raise TypeError('Duplicate values for {}'.format(','.join(kwargs)))\n",
        "\n",
        "# Example use\n",
        "if __name__ == '__main__':\n",
        "    class Stock(Structure3):\n",
        "        _fields = ['name', 'shares', 'price']\n",
        "\n",
        "    s1 = Stock('ACME', 50, 91.1)\n",
        "    s2 = Stock('ACME', 50, 91.1, date='8/2/2012')"
      ]
    },
    {
      "cell_type": "markdown",
      "metadata": {},
      "source": [
        "### 讨论\n"
      ]
    },
    {
      "cell_type": "markdown",
      "metadata": {},
      "source": [
        "当你需要使用大量很小的数据结构类的时候，\n",
        "相比手工一个个定义 __init__() 方法而已，使用这种方式可以大大简化代码。"
      ]
    },
    {
      "cell_type": "markdown",
      "metadata": {},
      "source": [
        "在上面的实现中我们使用了 setattr() 函数类设置属性值，\n",
        "你可能不想用这种方式，而是想直接更新实例字典，就像下面这样："
      ]
    },
    {
      "cell_type": "code",
      "execution_count": null,
      "metadata": {},
      "outputs": [],
      "source": [
        "class Structure:\n",
        "    # Class variable that specifies expected fields\n",
        "    _fields= []\n",
        "    def __init__(self, *args):\n",
        "        if len(args) != len(self._fields):\n",
        "            raise TypeError('Expected {} arguments'.format(len(self._fields)))\n",
        "\n",
        "        # Set the arguments (alternate)\n",
        "        self.__dict__.update(zip(self._fields,args))"
      ]
    },
    {
      "cell_type": "markdown",
      "metadata": {},
      "source": [
        "尽管这也可以正常工作，但是当定义子类的时候问题就来了。\n",
        "当一个子类定义了 __slots__ 或者通过property(或描述器)来包装某个属性，\n",
        "那么直接访问实例字典就不起作用了。我们上面使用 setattr() 会显得更通用些，因为它也适用于子类情况。"
      ]
    },
    {
      "cell_type": "markdown",
      "metadata": {},
      "source": [
        "这种方法唯一不好的地方就是对某些IDE而言，在显示帮助函数时可能不太友好。比如："
      ]
    },
    {
      "cell_type": "code",
      "execution_count": 12,
      "metadata": {},
      "outputs": [
        {
          "name": "stdout",
          "output_type": "stream",
          "text": [
            "Help on class Stock in module __main__:\n",
            "\n",
            "class Stock(Structure2)\n",
            " |  Stock(*args, **kwargs)\n",
            " |  \n",
            " |  Method resolution order:\n",
            " |      Stock\n",
            " |      Structure2\n",
            " |      builtins.object\n",
            " |  \n",
            " |  Data and other attributes defined here:\n",
            " |  \n",
            " |  _fields = ['name', 'shares', 'price']\n",
            " |  \n",
            " |  ----------------------------------------------------------------------\n",
            " |  Methods inherited from Structure2:\n",
            " |  \n",
            " |  __init__(self, *args, **kwargs)\n",
            " |      Initialize self.  See help(type(self)) for accurate signature.\n",
            " |  \n",
            " |  ----------------------------------------------------------------------\n",
            " |  Data descriptors inherited from Structure2:\n",
            " |  \n",
            " |  __dict__\n",
            " |      dictionary for instance variables (if defined)\n",
            " |  \n",
            " |  __weakref__\n",
            " |      list of weak references to the object (if defined)\n",
            "\n"
          ]
        }
      ],
      "source": [
        "help(Stock)"
      ]
    },
    {
      "cell_type": "markdown",
      "metadata": {},
      "source": [
        "可以参考9.16小节来强制在 __init__() 方法中指定参数的类型签名。"
      ]
    }
  ],
  "metadata": {
    "kernelspec": {
      "display_name": "Python 3",
      "language": "python",
      "name": "python3"
    },
    "language_info": {
      "codemirror_mode": {
        "name": "ipython",
        "version": 3
      },
      "file_extension": ".py",
      "mimetype": "text/x-python",
      "name": "python",
      "nbconvert_exporter": "python",
      "pygments_lexer": "ipython3",
      "version": "3.10.13"
    },
    "toc": {
      "base_numbering": 1,
      "nav_menu": {},
      "number_sections": true,
      "sideBar": true,
      "skip_h1_title": true,
      "title_cell": "Table of Contents",
      "title_sidebar": "Contents",
      "toc_cell": false,
      "toc_position": {},
      "toc_section_display": true,
      "toc_window_display": true
    }
  },
  "nbformat": 4,
  "nbformat_minor": 2
}
