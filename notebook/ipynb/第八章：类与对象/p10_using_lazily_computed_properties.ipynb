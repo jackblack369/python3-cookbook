{
  "cells": [
    {
      "cell_type": "markdown",
      "metadata": {},
      "source": [
        "## 8.10 使用延迟计算属性\n"
      ]
    },
    {
      "cell_type": "markdown",
      "metadata": {},
      "source": [
        "### 问题\n"
      ]
    },
    {
      "cell_type": "markdown",
      "metadata": {},
      "source": [
        "你想将一个只读属性定义成一个property，并且只在访问的时候才会计算结果。\n",
        "但是一旦被访问后，你希望结果值被缓存起来，不用每次都去计算。"
      ]
    },
    {
      "cell_type": "markdown",
      "metadata": {},
      "source": [
        "### 解决方案\n"
      ]
    },
    {
      "cell_type": "markdown",
      "metadata": {},
      "source": [
        "定义一个延迟属性的一种高效方法是通过使用一个描述器类，如下所示："
      ]
    },
    {
      "cell_type": "code",
      "execution_count": 11,
      "metadata": {},
      "outputs": [],
      "source": [
        "class lazyproperty:\n",
        "    def __init__(self, func):\n",
        "        self.func = func\n",
        "\n",
        "    def __get__(self, instance, cls):\n",
        "        if instance is None:\n",
        "            print(\"instance is None\")\n",
        "            return self\n",
        "        else:\n",
        "            print(\"instance is not None\")\n",
        "            value = self.func(instance)\n",
        "            setattr(instance, self.func.__name__, value)\n",
        "            return value"
      ]
    },
    {
      "cell_type": "markdown",
      "metadata": {},
      "source": [
        "你需要像下面这样在一个类中使用它："
      ]
    },
    {
      "cell_type": "code",
      "execution_count": 12,
      "metadata": {},
      "outputs": [],
      "source": [
        "import math\n",
        "\n",
        "class Circle:\n",
        "    def __init__(self, radius):\n",
        "        self.radius = radius\n",
        "\n",
        "    @lazyproperty\n",
        "    def area(self):\n",
        "        print('Computing area')\n",
        "        return math.pi * self.radius ** 2\n",
        "\n",
        "    @lazyproperty\n",
        "    def perimeter(self):\n",
        "        print('Computing perimeter')\n",
        "        return 2 * math.pi * self.radius"
      ]
    },
    {
      "cell_type": "markdown",
      "metadata": {},
      "source": [
        "下面在一个交互环境中演示它的使用："
      ]
    },
    {
      "cell_type": "code",
      "execution_count": 13,
      "metadata": {},
      "outputs": [
        {
          "data": {
            "text/plain": [
              "4.0"
            ]
          },
          "execution_count": 13,
          "metadata": {},
          "output_type": "execute_result"
        }
      ],
      "source": [
        "c = Circle(4.0)\n",
        "c.radius"
      ]
    },
    {
      "cell_type": "code",
      "execution_count": 14,
      "metadata": {},
      "outputs": [
        {
          "name": "stdout",
          "output_type": "stream",
          "text": [
            "instance is not None\n",
            "Computing area\n"
          ]
        },
        {
          "data": {
            "text/plain": [
              "50.26548245743669"
            ]
          },
          "execution_count": 14,
          "metadata": {},
          "output_type": "execute_result"
        }
      ],
      "source": [
        "c.area"
      ]
    },
    {
      "cell_type": "code",
      "execution_count": 17,
      "metadata": {},
      "outputs": [
        {
          "data": {
            "text/plain": [
              "50.26548245743669"
            ]
          },
          "execution_count": 17,
          "metadata": {},
          "output_type": "execute_result"
        }
      ],
      "source": [
        "c.area"
      ]
    },
    {
      "cell_type": "code",
      "execution_count": 18,
      "metadata": {},
      "outputs": [
        {
          "name": "stdout",
          "output_type": "stream",
          "text": [
            "instance is not None\n",
            "Computing perimeter\n"
          ]
        },
        {
          "data": {
            "text/plain": [
              "25.132741228718345"
            ]
          },
          "execution_count": 18,
          "metadata": {},
          "output_type": "execute_result"
        }
      ],
      "source": [
        "c.perimeter"
      ]
    },
    {
      "cell_type": "code",
      "execution_count": 19,
      "metadata": {},
      "outputs": [
        {
          "data": {
            "text/plain": [
              "25.132741228718345"
            ]
          },
          "execution_count": 19,
          "metadata": {},
          "output_type": "execute_result"
        }
      ],
      "source": [
        "c.perimeter"
      ]
    },
    {
      "cell_type": "markdown",
      "metadata": {},
      "source": [
        "仔细观察你会发现消息 Computing area 和 Computing perimeter 仅仅出现一次。"
      ]
    },
    {
      "cell_type": "markdown",
      "metadata": {},
      "source": [
        "### 讨论\n"
      ]
    },
    {
      "cell_type": "markdown",
      "metadata": {},
      "source": [
        "很多时候，构造一个延迟计算属性的主要目的是为了提升性能。\n",
        "例如，你可以避免计算这些属性值，除非你真的需要它们。\n",
        "这里演示的方案就是用来实现这样的效果的，\n",
        "只不过它是通过以非常高效的方式使用描述器的一个精妙特性来达到这种效果的。"
      ]
    },
    {
      "cell_type": "markdown",
      "metadata": {},
      "source": [
        "正如在其他小节(如8.9小节)所讲的那样，当一个描述器被放入一个类的定义时，\n",
        "每次访问属性时它的 __get__() 、__set__() 和 __delete__() 方法就会被触发。\n",
        "不过，如果一个描述器仅仅只定义了一个 __get__() 方法的话，它比通常的具有更弱的绑定。\n",
        "特别地，只有当被访问属性不在实例底层的字典中时 __get__() 方法才会被触发。"
      ]
    },
    {
      "cell_type": "markdown",
      "metadata": {},
      "source": [
        "lazyproperty 类利用这一点，使用 __get__() 方法在实例中存储计算出来的值，\n",
        "这个实例使用相同的名字作为它的property。\n",
        "这样一来，结果值被存储在实例字典中并且以后就不需要再去计算这个property了。\n",
        "你可以尝试更深入的例子来观察结果："
      ]
    },
    {
      "cell_type": "code",
      "execution_count": 20,
      "metadata": {},
      "outputs": [
        {
          "data": {
            "text/plain": [
              "{'radius': 4.0}"
            ]
          },
          "execution_count": 20,
          "metadata": {},
          "output_type": "execute_result"
        }
      ],
      "source": [
        "c = Circle(4.0)\n",
        "# Get instance variables\n",
        "vars(c)"
      ]
    },
    {
      "cell_type": "code",
      "execution_count": 21,
      "metadata": {},
      "outputs": [
        {
          "name": "stdout",
          "output_type": "stream",
          "text": [
            "instance is not None\n",
            "Computing area\n"
          ]
        },
        {
          "data": {
            "text/plain": [
              "50.26548245743669"
            ]
          },
          "execution_count": 21,
          "metadata": {},
          "output_type": "execute_result"
        }
      ],
      "source": [
        "# Compute area and observe variables afterward\n",
        "c.area"
      ]
    },
    {
      "cell_type": "code",
      "execution_count": 22,
      "metadata": {},
      "outputs": [
        {
          "data": {
            "text/plain": [
              "{'radius': 4.0, 'area': 50.26548245743669}"
            ]
          },
          "execution_count": 22,
          "metadata": {},
          "output_type": "execute_result"
        }
      ],
      "source": [
        "vars(c)"
      ]
    },
    {
      "cell_type": "code",
      "execution_count": 23,
      "metadata": {},
      "outputs": [
        {
          "data": {
            "text/plain": [
              "50.26548245743669"
            ]
          },
          "execution_count": 23,
          "metadata": {},
          "output_type": "execute_result"
        }
      ],
      "source": [
        "# Notice access doesn't invoke property anymore\n",
        "c.area"
      ]
    },
    {
      "cell_type": "code",
      "execution_count": 24,
      "metadata": {},
      "outputs": [
        {
          "data": {
            "text/plain": [
              "{'radius': 4.0}"
            ]
          },
          "execution_count": 24,
          "metadata": {},
          "output_type": "execute_result"
        }
      ],
      "source": [
        "# Delete the variable and see property trigger again\n",
        "del c.area\n",
        "vars(c)"
      ]
    },
    {
      "cell_type": "code",
      "execution_count": 26,
      "metadata": {},
      "outputs": [
        {
          "name": "stdout",
          "output_type": "stream",
          "text": [
            "instance is not None\n",
            "Computing area\n"
          ]
        },
        {
          "data": {
            "text/plain": [
              "50.26548245743669"
            ]
          },
          "execution_count": 26,
          "metadata": {},
          "output_type": "execute_result"
        }
      ],
      "source": [
        "c.area"
      ]
    },
    {
      "cell_type": "markdown",
      "metadata": {},
      "source": [
        "这种方案有一个小缺陷就是计算出的值被创建后是可以被修改的。例如："
      ]
    },
    {
      "cell_type": "code",
      "execution_count": 27,
      "metadata": {},
      "outputs": [
        {
          "data": {
            "text/plain": [
              "50.26548245743669"
            ]
          },
          "execution_count": 27,
          "metadata": {},
          "output_type": "execute_result"
        }
      ],
      "source": [
        "c.area"
      ]
    },
    {
      "cell_type": "code",
      "execution_count": 28,
      "metadata": {},
      "outputs": [
        {
          "data": {
            "text/plain": [
              "25"
            ]
          },
          "execution_count": 28,
          "metadata": {},
          "output_type": "execute_result"
        }
      ],
      "source": [
        "c.area = 25\n",
        "c.area"
      ]
    },
    {
      "cell_type": "markdown",
      "metadata": {},
      "source": [
        "如果你担心这个问题，那么可以使用一种稍微没那么高效的实现，就像下面这样："
      ]
    },
    {
      "cell_type": "code",
      "execution_count": 29,
      "metadata": {},
      "outputs": [],
      "source": [
        "def lazyproperty(func):\n",
        "    name = '_lazy_' + func.__name__\n",
        "    @property\n",
        "    def lazy(self):\n",
        "        if hasattr(self, name):\n",
        "            return getattr(self, name)\n",
        "        else:\n",
        "            value = func(self)\n",
        "            setattr(self, name, value)\n",
        "            return value\n",
        "    return lazy"
      ]
    },
    {
      "cell_type": "markdown",
      "metadata": {},
      "source": [
        "如果你使用这个版本，就会发现现在修改操作已经不被允许了："
      ]
    },
    {
      "cell_type": "code",
      "execution_count": 30,
      "metadata": {},
      "outputs": [
        {
          "name": "stdout",
          "output_type": "stream",
          "text": [
            "instance is not None\n",
            "Computing area\n"
          ]
        },
        {
          "data": {
            "text/plain": [
              "50.26548245743669"
            ]
          },
          "execution_count": 30,
          "metadata": {},
          "output_type": "execute_result"
        }
      ],
      "source": [
        "c = Circle(4.0)\n",
        "c.area"
      ]
    },
    {
      "cell_type": "code",
      "execution_count": 31,
      "metadata": {},
      "outputs": [
        {
          "data": {
            "text/plain": [
              "50.26548245743669"
            ]
          },
          "execution_count": 31,
          "metadata": {},
          "output_type": "execute_result"
        }
      ],
      "source": [
        "c.area"
      ]
    },
    {
      "cell_type": "code",
      "execution_count": 32,
      "metadata": {},
      "outputs": [],
      "source": [
        "c.area = 25"
      ]
    },
    {
      "cell_type": "markdown",
      "metadata": {},
      "source": [
        "然而，这种方案有一个缺点就是所有get操作都必须被定向到属性的 getter 函数上去。\n",
        "这个跟之前简单的在实例字典中查找值的方案相比效率要低一点。\n",
        "如果想获取更多关于property和可管理属性的信息，可以参考8.6小节。而描述器的相关内容可以在8.9小节找到。"
      ]
    }
  ],
  "metadata": {
    "kernelspec": {
      "display_name": "Python 3",
      "language": "python",
      "name": "python3"
    },
    "language_info": {
      "codemirror_mode": {
        "name": "ipython",
        "version": 3
      },
      "file_extension": ".py",
      "mimetype": "text/x-python",
      "name": "python",
      "nbconvert_exporter": "python",
      "pygments_lexer": "ipython3",
      "version": "3.10.13"
    },
    "toc": {
      "base_numbering": 1,
      "nav_menu": {},
      "number_sections": true,
      "sideBar": true,
      "skip_h1_title": true,
      "title_cell": "Table of Contents",
      "title_sidebar": "Contents",
      "toc_cell": false,
      "toc_position": {},
      "toc_section_display": true,
      "toc_window_display": true
    }
  },
  "nbformat": 4,
  "nbformat_minor": 2
}
