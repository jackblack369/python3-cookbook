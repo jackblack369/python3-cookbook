{
  "cells": [
    {
      "cell_type": "markdown",
      "metadata": {},
      "source": [
        "## 4.15 顺序迭代合并后的排序迭代对象\n"
      ]
    },
    {
      "cell_type": "markdown",
      "metadata": {},
      "source": [
        "### 问题\n"
      ]
    },
    {
      "cell_type": "markdown",
      "metadata": {},
      "source": [
        "你有一系列排序序列，想将它们合并后得到一个排序序列并在上面迭代遍历。"
      ]
    },
    {
      "cell_type": "markdown",
      "metadata": {},
      "source": [
        "### 解决方案\n"
      ]
    },
    {
      "cell_type": "markdown",
      "metadata": {},
      "source": [
        "heapq.merge() 函数可以帮你解决这个问题。比如："
      ]
    },
    {
      "cell_type": "code",
      "execution_count": null,
      "metadata": {},
      "outputs": [],
      "source": [
        "import heapq\n",
        "a = [1, 4, 7, 10]\n",
        "b = [2, 5, 6, 11]\n",
        "for c in heapq.merge(a, b):\n",
        "    print(c)"
      ]
    },
    {
      "cell_type": "markdown",
      "metadata": {},
      "source": [
        "### 讨论\n"
      ]
    },
    {
      "cell_type": "markdown",
      "metadata": {},
      "source": [
        "heapq.merge 可迭代特性意味着它不会立马读取所有序列。\n",
        "这就意味着你可以在非常长的序列中使用它，而不会有太大的开销。\n",
        "比如，下面是一个例子来演示如何合并两个排序文件："
      ]
    },
    {
      "cell_type": "code",
      "execution_count": null,
      "metadata": {},
      "outputs": [],
      "source": [
        "with open('sorted_file_1', 'rt') as file1, \\\n",
        "    open('sorted_file_2', 'rt') as file2, \\\n",
        "    open('merged_file', 'wt') as outf:\n",
        "\n",
        "    for line in heapq.merge(file1, file2):\n",
        "        outf.write(line)"
      ]
    },
    {
      "cell_type": "markdown",
      "metadata": {},
      "source": [
        "有一点要强调的是 heapq.merge() 需要所有输入序列必须是排过序的。\n",
        "特别的，它并不会预先读取所有数据到堆栈中或者预先排序，也不会对输入做任何的排序检测。\n",
        "它仅仅是检查所有序列的开始部分并返回最小的那个，这个过程一直会持续直到所有输入序列中的元素都被遍历完。"
      ]
    }
  ],
  "metadata": {
    "kernelspec": {
      "display_name": "Python 3",
      "language": "python",
      "name": "python3"
    },
    "language_info": {
      "codemirror_mode": {
        "name": "ipython",
        "version": 3
      },
      "file_extension": ".py",
      "mimetype": "text/x-python",
      "name": "python",
      "nbconvert_exporter": "python",
      "pygments_lexer": "ipython3",
      "version": "3.10.13"
    },
    "toc": {
      "base_numbering": 1,
      "nav_menu": {},
      "number_sections": true,
      "sideBar": true,
      "skip_h1_title": true,
      "title_cell": "Table of Contents",
      "title_sidebar": "Contents",
      "toc_cell": false,
      "toc_position": {},
      "toc_section_display": true,
      "toc_window_display": true
    }
  },
  "nbformat": 4,
  "nbformat_minor": 2
}
