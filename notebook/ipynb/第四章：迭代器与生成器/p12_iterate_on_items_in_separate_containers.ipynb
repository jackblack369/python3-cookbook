{
  "cells": [
    {
      "cell_type": "markdown",
      "metadata": {},
      "source": [
        "## 4.12 不同集合上元素的迭代\n"
      ]
    },
    {
      "cell_type": "markdown",
      "metadata": {},
      "source": [
        "### 问题\n"
      ]
    },
    {
      "cell_type": "markdown",
      "metadata": {},
      "source": [
        "你想在多个对象执行相同的操作，但是这些对象在不同的容器中，你希望代码在不失可读性的情况下避免写重复的循环。"
      ]
    },
    {
      "cell_type": "markdown",
      "metadata": {},
      "source": [
        "### 解决方案\n"
      ]
    },
    {
      "cell_type": "markdown",
      "metadata": {},
      "source": [
        "itertools.chain() 方法可以用来简化这个任务。\n",
        "它接受一个可迭代对象列表作为输入，并返回一个迭代器，有效的屏蔽掉在多个容器中迭代细节。\n",
        "为了演示清楚，考虑下面这个例子："
      ]
    },
    {
      "cell_type": "code",
      "execution_count": null,
      "metadata": {},
      "outputs": [],
      "source": [
        "from itertools import chain\n",
        "a = [1, 2, 3, 4]\n",
        "b = ['x', 'y', 'z']\n",
        "for x in chain(a, b):\n",
        "print(x)"
      ]
    },
    {
      "cell_type": "markdown",
      "metadata": {},
      "source": [
        "使用 chain() 的一个常见场景是当你想对不同的集合中所有元素执行某些操作的时候。比如："
      ]
    },
    {
      "cell_type": "code",
      "execution_count": null,
      "metadata": {},
      "outputs": [],
      "source": [
        "# Various working sets of items\n",
        "active_items = set()\n",
        "inactive_items = set()\n",
        "\n",
        "# Iterate over all items\n",
        "for item in chain(active_items, inactive_items):\n",
        "    # Process item"
      ]
    },
    {
      "cell_type": "markdown",
      "metadata": {},
      "source": [
        "这种解决方案要比像下面这样使用两个单独的循环更加优雅，"
      ]
    },
    {
      "cell_type": "code",
      "execution_count": null,
      "metadata": {},
      "outputs": [],
      "source": [
        "for item in active_items:\n",
        "    # Process item\n",
        "    ...\n",
        "\n",
        "for item in inactive_items:\n",
        "    # Process item\n",
        "    ..."
      ]
    },
    {
      "cell_type": "markdown",
      "metadata": {},
      "source": [
        "### 讨论\n"
      ]
    },
    {
      "cell_type": "markdown",
      "metadata": {},
      "source": [
        "itertools.chain() 接受一个或多个可迭代对象作为输入参数。\n",
        "然后创建一个迭代器，依次连续的返回每个可迭代对象中的元素。\n",
        "这种方式要比先将序列合并再迭代要高效的多。比如："
      ]
    },
    {
      "cell_type": "code",
      "execution_count": null,
      "metadata": {},
      "outputs": [],
      "source": [
        "# Inefficent\n",
        "for x in a + b:\n",
        "    ...\n",
        "\n",
        "# Better\n",
        "for x in chain(a, b):\n",
        "    ..."
      ]
    },
    {
      "cell_type": "markdown",
      "metadata": {},
      "source": [
        "第一种方案中， a + b 操作会创建一个全新的序列并要求a和b的类型一致。\n",
        "chian() 不会有这一步，所以如果输入序列非常大的时候会很省内存。\n",
        "并且当可迭代对象类型不一样的时候 chain() 同样可以很好的工作。"
      ]
    }
  ],
  "metadata": {
    "kernelspec": {
      "display_name": "Python 3",
      "language": "python",
      "name": "python3"
    },
    "language_info": {
      "codemirror_mode": {
        "name": "ipython",
        "version": 3
      },
      "file_extension": ".py",
      "mimetype": "text/x-python",
      "name": "python",
      "nbconvert_exporter": "python",
      "pygments_lexer": "ipython3",
      "version": "3.10.13"
    },
    "toc": {
      "base_numbering": 1,
      "nav_menu": {},
      "number_sections": true,
      "sideBar": true,
      "skip_h1_title": true,
      "title_cell": "Table of Contents",
      "title_sidebar": "Contents",
      "toc_cell": false,
      "toc_position": {},
      "toc_section_display": true,
      "toc_window_display": true
    }
  },
  "nbformat": 4,
  "nbformat_minor": 2
}
