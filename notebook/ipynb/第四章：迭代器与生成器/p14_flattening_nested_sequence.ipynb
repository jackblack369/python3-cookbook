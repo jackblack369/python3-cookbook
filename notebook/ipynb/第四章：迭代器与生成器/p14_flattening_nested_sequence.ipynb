{
  "cells": [
    {
      "cell_type": "markdown",
      "metadata": {},
      "source": [
        "## 4.14 展开嵌套的序列\n"
      ]
    },
    {
      "cell_type": "markdown",
      "metadata": {},
      "source": [
        "### 问题\n"
      ]
    },
    {
      "cell_type": "markdown",
      "metadata": {},
      "source": [
        "你想将一个多层嵌套的序列展开成一个单层列表"
      ]
    },
    {
      "cell_type": "markdown",
      "metadata": {},
      "source": [
        "### 解决方案\n"
      ]
    },
    {
      "cell_type": "markdown",
      "metadata": {},
      "source": [
        "可以写一个包含 yield from 语句的递归生成器来轻松解决这个问题。比如："
      ]
    },
    {
      "cell_type": "code",
      "execution_count": 3,
      "metadata": {},
      "outputs": [
        {
          "ename": "ImportError",
          "evalue": "cannot import name 'Iterable' from 'collections' (/Users/dongwei/.pyenv/versions/3.10.13/lib/python3.10/collections/__init__.py)",
          "output_type": "error",
          "traceback": [
            "\u001b[0;31m---------------------------------------------------------------------------\u001b[0m",
            "\u001b[0;31mImportError\u001b[0m                               Traceback (most recent call last)",
            "Cell \u001b[0;32mIn[3], line 1\u001b[0m\n\u001b[0;32m----> 1\u001b[0m \u001b[38;5;28;01mfrom\u001b[39;00m \u001b[38;5;21;01mcollections\u001b[39;00m \u001b[38;5;28;01mimport\u001b[39;00m Iterable\n\u001b[1;32m      3\u001b[0m \u001b[38;5;28;01mdef\u001b[39;00m \u001b[38;5;21mflatten\u001b[39m(items, ignore_types\u001b[38;5;241m=\u001b[39m(\u001b[38;5;28mstr\u001b[39m, \u001b[38;5;28mbytes\u001b[39m)):\n\u001b[1;32m      4\u001b[0m     \u001b[38;5;28;01mfor\u001b[39;00m x \u001b[38;5;129;01min\u001b[39;00m items:\n",
            "\u001b[0;31mImportError\u001b[0m: cannot import name 'Iterable' from 'collections' (/Users/dongwei/.pyenv/versions/3.10.13/lib/python3.10/collections/__init__.py)"
          ]
        }
      ],
      "source": [
        "from collections import Iterable\n",
        "\n",
        "def flatten(items, ignore_types=(str, bytes)):\n",
        "    for x in items:\n",
        "        if isinstance(x, Iterable) and not isinstance(x, ignore_types):\n",
        "            yield from flatten(x)\n",
        "        else:\n",
        "            yield x\n",
        "\n",
        "items = [1, 2, [3, 4, [5, 6], 7], 8]\n",
        "# Produces 1 2 3 4 5 6 7 8\n",
        "for x in flatten(items):\n",
        "    print(x)"
      ]
    },
    {
      "cell_type": "markdown",
      "metadata": {},
      "source": [
        "在上面代码中， isinstance(x, Iterable) 检查某个元素是否是可迭代的。\n",
        "如果是的话， yield from 就会返回所有子例程的值。最终返回结果就是一个没有嵌套的简单序列了。"
      ]
    },
    {
      "cell_type": "markdown",
      "metadata": {},
      "source": [
        "额外的参数 ignore_types 和检测语句 isinstance(x, ignore_types)\n",
        "用来将字符串和字节排除在可迭代对象外，防止将它们再展开成单个的字符。\n",
        "这样的话字符串数组就能最终返回我们所期望的结果了。比如："
      ]
    },
    {
      "cell_type": "code",
      "execution_count": null,
      "metadata": {},
      "outputs": [],
      "source": [
        "items = ['Dave', 'Paula', ['Thomas', 'Lewis']]\n",
        "for x in flatten(items):\n",
        "    print(x)"
      ]
    },
    {
      "cell_type": "markdown",
      "metadata": {},
      "source": [
        "### 讨论\n"
      ]
    },
    {
      "cell_type": "markdown",
      "metadata": {},
      "source": [
        "语句 yield from 在你想在生成器中调用其他生成器作为子例程的时候非常有用。\n",
        "如果你不使用它的话，那么就必须写额外的 for 循环了。比如："
      ]
    },
    {
      "cell_type": "code",
      "execution_count": null,
      "metadata": {},
      "outputs": [],
      "source": [
        "def flatten(items, ignore_types=(str, bytes)):\n",
        "    for x in items:\n",
        "        if isinstance(x, Iterable) and not isinstance(x, ignore_types):\n",
        "            for i in flatten(x):\n",
        "                yield i\n",
        "        else:\n",
        "            yield x"
      ]
    },
    {
      "cell_type": "markdown",
      "metadata": {},
      "source": [
        "尽管只改了一点点，但是 yield from 语句看上去感觉更好，并且也使得代码更简洁清爽。"
      ]
    },
    {
      "cell_type": "markdown",
      "metadata": {},
      "source": [
        "之前提到的对于字符串和字节的额外检查是为了防止将它们再展开成单个字符。\n",
        "如果还有其他你不想展开的类型，修改参数 ignore_types 即可。"
      ]
    },
    {
      "cell_type": "markdown",
      "metadata": {},
      "source": [
        "最后要注意的一点是， yield from 在涉及到基于协程和生成器的并发编程中扮演着更加重要的角色。\n",
        "可以参考12.12小节查看另外一个例子。"
      ]
    }
  ],
  "metadata": {
    "kernelspec": {
      "display_name": "Python 3",
      "language": "python",
      "name": "python3"
    },
    "language_info": {
      "codemirror_mode": {
        "name": "ipython",
        "version": 3
      },
      "file_extension": ".py",
      "mimetype": "text/x-python",
      "name": "python",
      "nbconvert_exporter": "python",
      "pygments_lexer": "ipython3",
      "version": "3.10.13"
    },
    "toc": {
      "base_numbering": 1,
      "nav_menu": {},
      "number_sections": true,
      "sideBar": true,
      "skip_h1_title": true,
      "title_cell": "Table of Contents",
      "title_sidebar": "Contents",
      "toc_cell": false,
      "toc_position": {},
      "toc_section_display": true,
      "toc_window_display": true
    }
  },
  "nbformat": 4,
  "nbformat_minor": 2
}
